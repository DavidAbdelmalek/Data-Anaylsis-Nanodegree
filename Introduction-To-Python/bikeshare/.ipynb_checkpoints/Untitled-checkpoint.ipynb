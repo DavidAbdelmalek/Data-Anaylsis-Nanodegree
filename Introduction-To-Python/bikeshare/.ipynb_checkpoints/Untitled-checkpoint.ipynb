{
 "cells": [
  {
   "cell_type": "code",
   "execution_count": 1,
   "metadata": {},
   "outputs": [],
   "source": [
    "import pandas as pd\n",
    "import time\n",
    "import numpy as np\n",
    "import datetime as dt"
   ]
  },
  {
   "cell_type": "code",
   "execution_count": 2,
   "metadata": {},
   "outputs": [],
   "source": [
    "CITY_DATA = { 'chicago': 'chicago.csv',\n",
    "              'new york city': 'new_york_city.csv',\n",
    "              'washington': 'washington.csv' }\n",
    "\n",
    "\n",
    "MONTH_DATA = {\n",
    "    'january': 1,\n",
    "    'february': 2,\n",
    "    'march': 3,\n",
    "    'april': 4,\n",
    "    'may': 5,\n",
    "    'june': 6\n",
    "}\n",
    "\n",
    "\n",
    "city = 'chicago'\n",
    "\n",
    "\n",
    "\n",
    "\n",
    "df = pd.read_csv('./{}'.format(CITY_DATA[city]))\n",
    "df.columns = df.columns.str.strip().str.lower().str.replace(' ', '_')\n",
    "df['start_time']=pd.to_datetime(df.start_time)\n",
    "df['end_time']=pd.to_datetime(df.end_time)\n"
   ]
  },
  {
   "cell_type": "code",
   "execution_count": null,
   "metadata": {},
   "outputs": [],
   "source": [
    "df['start_time']=pd.to_datetime(df.start_time)\n",
    "df['end_time']=pd.to_datetime(df.end_time)"
   ]
  },
  {
   "cell_type": "code",
   "execution_count": null,
   "metadata": {},
   "outputs": [],
   "source": [
    "def getTheBest(df,query):\n",
    "    stations = df.groupby(query).start_station.count().sort_values(ascending=False).iloc[0:5]\n",
    "    print('\\n\\t\\tHere is the 5 most commonly used {} station'.format(query))\n",
    "    print(\"  Name of the station\\t\\t\\t\\tNumber of times\")\n",
    "    print(\"-\"*80)\n",
    "    for i in range(5):\n",
    "        name = stations.iloc[[i]].index[0]\n",
    "        count = stations.iloc[[i]][0]\n",
    "        print('{:55}{}'.format(name, count))"
   ]
  },
  {
   "cell_type": "code",
   "execution_count": null,
   "metadata": {},
   "outputs": [],
   "source": [
    "getTheBest(df,'start_station')"
   ]
  },
  {
   "cell_type": "markdown",
   "metadata": {},
   "source": [
    "# Display trip duration calculations"
   ]
  },
  {
   "cell_type": "code",
   "execution_count": null,
   "metadata": {},
   "outputs": [],
   "source": [
    "sum_seconds = int(df.trip_duration.sum())\n",
    "out = (datetime.timedelta(seconds=sum_seconds))\n",
    "print(out.total_seconds())"
   ]
  },
  {
   "cell_type": "markdown",
   "metadata": {},
   "source": [
    "# Display user stats"
   ]
  },
  {
   "cell_type": "code",
   "execution_count": null,
   "metadata": {},
   "outputs": [],
   "source": [
    "df.columns"
   ]
  },
  {
   "cell_type": "code",
   "execution_count": null,
   "metadata": {},
   "outputs": [],
   "source": [
    "grouping_users = df.groupby(['user_type']).user_type.count().loc['Customer']\n",
    "grouping_users"
   ]
  },
  {
   "cell_type": "code",
   "execution_count": null,
   "metadata": {},
   "outputs": [],
   "source": [
    "grouping_users = df.groupby(['gender']).user_type.count()\n",
    "grouping_users"
   ]
  },
  {
   "cell_type": "markdown",
   "metadata": {},
   "source": [
    "# Display average and most common ages of users"
   ]
  },
  {
   "cell_type": "code",
   "execution_count": null,
   "metadata": {},
   "outputs": [],
   "source": [
    "now = dt.datetime.now()\n",
    "df['age']=now.year-df['birth_year']\n",
    "ages = df.groupby('age').age.count().sort_values(ascending=False)\n",
    "for i in range(5):\n",
    "    print(ages.iloc[[i]].index[0],ages.iloc[i])"
   ]
  },
  {
   "cell_type": "code",
   "execution_count": 25,
   "metadata": {},
   "outputs": [
    {
     "name": "stdout",
     "output_type": "stream",
     "text": [
      "3\n"
     ]
    }
   ],
   "source": [
    "\n",
    "print((df.start_time.dt.hour).value_counts().sort_values(ascending=False))"
   ]
  },
  {
   "cell_type": "code",
   "execution_count": null,
   "metadata": {},
   "outputs": [],
   "source": []
  }
 ],
 "metadata": {
  "kernelspec": {
   "display_name": "Python 3",
   "language": "python",
   "name": "python3"
  },
  "language_info": {
   "codemirror_mode": {
    "name": "ipython",
    "version": 3
   },
   "file_extension": ".py",
   "mimetype": "text/x-python",
   "name": "python",
   "nbconvert_exporter": "python",
   "pygments_lexer": "ipython3",
   "version": "3.6.4"
  }
 },
 "nbformat": 4,
 "nbformat_minor": 2
}
