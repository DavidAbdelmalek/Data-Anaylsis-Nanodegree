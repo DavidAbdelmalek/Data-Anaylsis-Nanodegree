{
 "cells": [
  {
   "cell_type": "code",
   "execution_count": 33,
   "metadata": {},
   "outputs": [],
   "source": [
    "import pandas as pd\n",
    "import time\n",
    "import numpy as np\n",
    "import datetime as dt\n",
    "import calendar"
   ]
  },
  {
   "cell_type": "code",
   "execution_count": 2,
   "metadata": {},
   "outputs": [],
   "source": [
    "CITY_DATA = { 'chicago': 'chicago.csv',\n",
    "              'new york city': 'new_york_city.csv',\n",
    "              'washington': 'washington.csv' }\n",
    "\n",
    "\n",
    "MONTH_DATA = {\n",
    "    'january': 1,\n",
    "    'february': 2,\n",
    "    'march': 3,\n",
    "    'april': 4,\n",
    "    'may': 5,\n",
    "    'june': 6\n",
    "}\n",
    "\n",
    "\n",
    "city = 'chicago'\n",
    "\n",
    "\n",
    "\n",
    "\n",
    "df = pd.read_csv('./{}'.format(CITY_DATA[city]))\n",
    "df.columns = df.columns.str.strip().str.lower().str.replace(' ', '_')\n",
    "df['start_time']=pd.to_datetime(df.start_time)\n",
    "df['end_time']=pd.to_datetime(df.end_time)\n"
   ]
  },
  {
   "cell_type": "code",
   "execution_count": null,
   "metadata": {},
   "outputs": [],
   "source": [
    "df['start_time']=pd.to_datetime(df.start_time)\n",
    "df['end_time']=pd.to_datetime(df.end_time)"
   ]
  },
  {
   "cell_type": "code",
   "execution_count": null,
   "metadata": {},
   "outputs": [],
   "source": [
    "def getTheBest(df,query):\n",
    "    stations = df.groupby(query).start_station.count().sort_values(ascending=False).iloc[0:5]\n",
    "    print('\\n\\t\\tHere is the 5 most commonly used {} station'.format(query))\n",
    "    print(\"  Name of the station\\t\\t\\t\\tNumber of times\")\n",
    "    print(\"-\"*80)\n",
    "    for i in range(5):\n",
    "        name = stations.iloc[[i]].index[0]\n",
    "        count = stations.iloc[[i]][0]\n",
    "        print('{:55}{}'.format(name, count))"
   ]
  },
  {
   "cell_type": "code",
   "execution_count": null,
   "metadata": {},
   "outputs": [],
   "source": [
    "getTheBest(df,'start_station')"
   ]
  },
  {
   "cell_type": "markdown",
   "metadata": {},
   "source": [
    "# Display trip duration calculations"
   ]
  },
  {
   "cell_type": "code",
   "execution_count": null,
   "metadata": {},
   "outputs": [],
   "source": [
    "sum_seconds = int(df.trip_duration.sum())\n",
    "out = (datetime.timedelta(seconds=sum_seconds))\n",
    "print(out.total_seconds())"
   ]
  },
  {
   "cell_type": "markdown",
   "metadata": {},
   "source": [
    "# Display user stats"
   ]
  },
  {
   "cell_type": "code",
   "execution_count": null,
   "metadata": {},
   "outputs": [],
   "source": [
    "df.columns"
   ]
  },
  {
   "cell_type": "code",
   "execution_count": null,
   "metadata": {},
   "outputs": [],
   "source": [
    "grouping_users = df.groupby(['user_type']).user_type.count().loc['Customer']\n",
    "grouping_users"
   ]
  },
  {
   "cell_type": "code",
   "execution_count": null,
   "metadata": {},
   "outputs": [],
   "source": [
    "grouping_users = df.groupby(['gender']).user_type.count()\n",
    "grouping_users"
   ]
  },
  {
   "cell_type": "markdown",
   "metadata": {},
   "source": [
    "# Display average and most common ages of users"
   ]
  },
  {
   "cell_type": "code",
   "execution_count": null,
   "metadata": {},
   "outputs": [],
   "source": [
    "now = dt.datetime.now()\n",
    "df['age']=now.year-df['birth_year']\n",
    "ages = df.groupby('age').age.count().sort_values(ascending=False)\n",
    "for i in range(5):\n",
    "    print(ages.iloc[[i]].index[0],ages.iloc[i])"
   ]
  },
  {
   "cell_type": "code",
   "execution_count": 36,
   "metadata": {},
   "outputs": [
    {
     "name": "stdout",
     "output_type": "stream",
     "text": [
      "Jun\n"
     ]
    }
   ],
   "source": [
    "\n",
    "ok = ((df.start_time.dt.month).value_counts().sort_values(ascending=False))\n",
    "print(calendar.month_abbr[ok.index[0]])"
   ]
  },
  {
   "cell_type": "code",
   "execution_count": null,
   "metadata": {},
   "outputs": [],
   "source": [
    "    # display the most common month and the least one\n",
    "    sorted_months = (df.start_time.dt.month).value_counts().sort_values(ascending=False)\n",
    "    size = sorted_months.size                       # in case that the list is <5 and this means there is some months not occured in the list but i don't have to get it.\n",
    "    max = calendar.month_abbr[sorted_months.index[0]]\n",
    "    min = calendar.month_abbr[sorted_months.index[size-1]]\n",
    "    printing_helper('month',max,min)\n",
    "\n",
    "    # display the most common day of week and the least one\n",
    "    sorted_days = (df.start_time.dt.weekday_name).value_counts().sort_values(ascending=False)\n",
    "    size = sorted_days.size\n",
    "    max = sorted_days.index[0]     \n",
    "    min = sorted_days.index[size-1]\n",
    "    printing_helper('day', max, min)"
   ]
  }
 ],
 "metadata": {
  "kernelspec": {
   "display_name": "Python 3",
   "language": "python",
   "name": "python3"
  },
  "language_info": {
   "codemirror_mode": {
    "name": "ipython",
    "version": 3
   },
   "file_extension": ".py",
   "mimetype": "text/x-python",
   "name": "python",
   "nbconvert_exporter": "python",
   "pygments_lexer": "ipython3",
   "version": "3.6.4"
  }
 },
 "nbformat": 4,
 "nbformat_minor": 2
}
